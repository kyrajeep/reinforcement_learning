{
  "nbformat": 4,
  "nbformat_minor": 0,
  "metadata": {
    "colab": {
      "provenance": [],
      "mount_file_id": "1GY2q1Im7aLKojCWRU6Fr5DCZtiTqpwBL",
      "authorship_tag": "ABX9TyMdc36dWF4+YflcvnitFjpi",
      "include_colab_link": true
    },
    "kernelspec": {
      "name": "python3",
      "display_name": "Python 3"
    },
    "language_info": {
      "name": "python"
    }
  },
  "cells": [
    {
      "cell_type": "markdown",
      "metadata": {
        "id": "view-in-github",
        "colab_type": "text"
      },
      "source": [
        "<a href=\"https://colab.research.google.com/github/kyrajeep/reinforcement_learning/blob/master/cluster_dim_reduction.ipynb\" target=\"_parent\"><img src=\"https://colab.research.google.com/assets/colab-badge.svg\" alt=\"Open In Colab\"/></a>"
      ]
    },
    {
      "cell_type": "code",
      "source": [
        "# The interaction with Colab is based on the FullyConnectedNets.ipynb from\n",
        "# Stanford's cs231n\n",
        "from google.colab import drive\n",
        "drive.mount('/content/drive')"
      ],
      "metadata": {
        "id": "NOQ-n_j9n8eI",
        "colab": {
          "base_uri": "https://localhost:8080/"
        },
        "outputId": "8de1a1c5-f9ff-4acb-ac3d-89333608d8c2"
      },
      "execution_count": 1,
      "outputs": [
        {
          "output_type": "stream",
          "name": "stdout",
          "text": [
            "Drive already mounted at /content/drive; to attempt to forcibly remount, call drive.mount(\"/content/drive\", force_remount=True).\n"
          ]
        }
      ]
    },
    {
      "cell_type": "code",
      "source": [
        "FOLDERNAME = 'contrastive_clustering_dmcontrol/cs231n'\n",
        "assert FOLDERNAME is not None, \"[!] Enter the foldername.\""
      ],
      "metadata": {
        "id": "UK-zACKmor-Q"
      },
      "execution_count": 2,
      "outputs": []
    },
    {
      "cell_type": "code",
      "source": [
        "# Now that we've mounted your Drive, this ensures that\n",
        "# the Python interpreter of the Colab VM can load\n",
        "# python files from within it.\n",
        "import sys\n",
        "sys.path.append('/content/drive/My Drive/{}'.format(FOLDERNAME))\n"
      ],
      "metadata": {
        "id": "_42FYdFprtyg"
      },
      "execution_count": 3,
      "outputs": []
    },
    {
      "cell_type": "code",
      "execution_count": null,
      "metadata": {
        "colab": {
          "base_uri": "https://localhost:8080/"
        },
        "id": "oZlcfMTOlDQW",
        "outputId": "ccada373-c17d-485a-dea9-79848b5865fe"
      },
      "outputs": [
        {
          "output_type": "stream",
          "name": "stdout",
          "text": [
            "Collecting dm_control\n",
            "  Downloading dm_control-1.0.13-py3-none-any.whl (39.3 MB)\n",
            "\u001b[2K     \u001b[90m━━━━━━━━━━━━━━━━━━━━━━━━━━━━━━━━━━━━━━━━\u001b[0m \u001b[32m39.3/39.3 MB\u001b[0m \u001b[31m17.2 MB/s\u001b[0m eta \u001b[36m0:00:00\u001b[0m\n",
            "\u001b[?25hRequirement already satisfied: absl-py>=0.7.0 in /usr/local/lib/python3.10/dist-packages (from dm_control) (1.4.0)\n",
            "Collecting dm-env (from dm_control)\n",
            "  Downloading dm_env-1.6-py3-none-any.whl (26 kB)\n",
            "Requirement already satisfied: dm-tree!=0.1.2 in /usr/local/lib/python3.10/dist-packages (from dm_control) (0.1.8)\n",
            "Collecting glfw (from dm_control)\n",
            "  Downloading glfw-2.6.2-py2.py27.py3.py30.py31.py32.py33.py34.py35.py36.py37.py38-none-manylinux2014_x86_64.whl (208 kB)\n",
            "\u001b[2K     \u001b[90m━━━━━━━━━━━━━━━━━━━━━━━━━━━━━━━━━━━━━━\u001b[0m \u001b[32m208.2/208.2 kB\u001b[0m \u001b[31m10.8 MB/s\u001b[0m eta \u001b[36m0:00:00\u001b[0m\n",
            "\u001b[?25hCollecting labmaze (from dm_control)\n",
            "  Downloading labmaze-1.0.6-cp310-cp310-manylinux_2_17_x86_64.manylinux2014_x86_64.whl (4.9 MB)\n",
            "\u001b[2K     \u001b[90m━━━━━━━━━━━━━━━━━━━━━━━━━━━━━━━━━━━━━━━━\u001b[0m \u001b[32m4.9/4.9 MB\u001b[0m \u001b[31m30.0 MB/s\u001b[0m eta \u001b[36m0:00:00\u001b[0m\n",
            "\u001b[?25hRequirement already satisfied: lxml in /usr/local/lib/python3.10/dist-packages (from dm_control) (4.9.3)\n",
            "Collecting mujoco>=2.3.6 (from dm_control)\n",
            "  Downloading mujoco-2.3.6-cp310-cp310-manylinux_2_17_x86_64.manylinux2014_x86_64.whl (4.5 MB)\n",
            "\u001b[2K     \u001b[90m━━━━━━━━━━━━━━━━━━━━━━━━━━━━━━━━━━━━━━━━\u001b[0m \u001b[32m4.5/4.5 MB\u001b[0m \u001b[31m54.8 MB/s\u001b[0m eta \u001b[36m0:00:00\u001b[0m\n",
            "\u001b[?25hRequirement already satisfied: numpy>=1.9.0 in /usr/local/lib/python3.10/dist-packages (from dm_control) (1.22.4)\n",
            "Requirement already satisfied: protobuf>=3.19.4 in /usr/local/lib/python3.10/dist-packages (from dm_control) (3.20.3)\n",
            "Requirement already satisfied: pyopengl>=3.1.4 in /usr/local/lib/python3.10/dist-packages (from dm_control) (3.1.7)\n",
            "Requirement already satisfied: pyparsing>=3.0.0 in /usr/local/lib/python3.10/dist-packages (from dm_control) (3.1.0)\n",
            "Requirement already satisfied: requests in /usr/local/lib/python3.10/dist-packages (from dm_control) (2.27.1)\n",
            "Requirement already satisfied: setuptools!=50.0.0 in /usr/local/lib/python3.10/dist-packages (from dm_control) (67.7.2)\n",
            "Requirement already satisfied: scipy in /usr/local/lib/python3.10/dist-packages (from dm_control) (1.10.1)\n",
            "Requirement already satisfied: tqdm in /usr/local/lib/python3.10/dist-packages (from dm_control) (4.65.0)\n",
            "Requirement already satisfied: urllib3<1.27,>=1.21.1 in /usr/local/lib/python3.10/dist-packages (from requests->dm_control) (1.26.16)\n",
            "Requirement already satisfied: certifi>=2017.4.17 in /usr/local/lib/python3.10/dist-packages (from requests->dm_control) (2023.5.7)\n",
            "Requirement already satisfied: charset-normalizer~=2.0.0 in /usr/local/lib/python3.10/dist-packages (from requests->dm_control) (2.0.12)\n",
            "Requirement already satisfied: idna<4,>=2.5 in /usr/local/lib/python3.10/dist-packages (from requests->dm_control) (3.4)\n",
            "Installing collected packages: glfw, mujoco, labmaze, dm-env, dm_control\n",
            "Successfully installed dm-env-1.6 dm_control-1.0.13 glfw-2.6.2 labmaze-1.0.6 mujoco-2.3.6\n"
          ]
        }
      ],
      "source": [
        "!pip install dm_control"
      ]
    },
    {
      "cell_type": "markdown",
      "source": [
        "# New Section"
      ],
      "metadata": {
        "id": "JyQ9ESy-pY0y"
      }
    },
    {
      "cell_type": "code",
      "source": [
        "from tqdm import trange\n",
        "from matplotlib import pyplot as plt\n",
        "import random\n",
        "import argparse\n",
        "\n",
        "from pdb import set_trace\n",
        "\n",
        "#from logger import *\n",
        "import json\n",
        "#import gym\n",
        "\n",
        "import pdb\n",
        "import torch\n",
        "import numpy as np\n",
        "\n",
        "import pickle\n",
        "import copy\n",
        "from sklearn import metrics\n",
        "from dm_control import suite"
      ],
      "metadata": {
        "id": "xClT4C-clMEz",
        "colab": {
          "base_uri": "https://localhost:8080/"
        },
        "outputId": "41a4a80f-3872-4a1a-d178-446ebd879d6e"
      },
      "execution_count": null,
      "outputs": [
        {
          "output_type": "stream",
          "name": "stderr",
          "text": [
            "/usr/local/lib/python3.10/dist-packages/glfw/__init__.py:916: GLFWError: (65544) b'X11: The DISPLAY environment variable is missing'\n",
            "  warnings.warn(message, GLFWError)\n"
          ]
        }
      ]
    },
    {
      "cell_type": "code",
      "source": [
        "try:\n",
        "  env = suite.load('cheetah', 'run')\n",
        "except Exception as e:\n",
        "  raise e from RuntimeError(\n",
        "      'Something went wrong during installation. Check the shell output above ')"
      ],
      "metadata": {
        "id": "GuKxyiHLmOf6"
      },
      "execution_count": null,
      "outputs": []
    },
    {
      "cell_type": "code",
      "source": [
        "from sklearn.cluster import KMeans\n",
        "from joblib import Parallel, delayed\n"
      ],
      "metadata": {
        "id": "2jt5RSFWnF8i"
      },
      "execution_count": null,
      "outputs": []
    },
    {
      "cell_type": "code",
      "source": [
        "#\n",
        "#!bash ./drive/MyDrive/Research_driving/contrastive_clustering_dmcontrol/OODIL/mujoco/setup1/run_walker_DCN.sh"
      ],
      "metadata": {
        "colab": {
          "base_uri": "https://localhost:8080/"
        },
        "id": "kPUU2oTmkuoV",
        "outputId": "d449096f-73fb-415c-86cc-37f155d7fa96"
      },
      "execution_count": 9,
      "outputs": [
        {
          "output_type": "stream",
          "name": "stdout",
          "text": [
            "python3: can't open file '/content/main_contrastive1.py': [Errno 2] No such file or directory\n"
          ]
        }
      ]
    },
    {
      "cell_type": "markdown",
      "source": [
        "# New Section"
      ],
      "metadata": {
        "id": "tpPXyzy9OzBs"
      }
    },
    {
      "cell_type": "code",
      "source": [
        "!python3 ./drive/MyDrive/Research_driving/contrastive_clustering_dmcontrol/OODIL/mujoco/setup1/main_contrastive1.py  \\\n",
        "    --demo_files ./drive/MyDrive/Research_driving/contrastive_clustering_dmcontrol/OODIL/mujoco/demo/walker2d_24.8/batch_00.pkl \\\n",
        "            ./drive/MyDrive/Research_driving/contrastive_clustering_dmcontrol/OODIL/mujoco/demo/walker2d_9.9/batch_00.pkl \\\n",
        "            ./drive/MyDrive/Research_driving/contrastive_clustering_dmcontrol/OODIL/mujoco/demo/walker2d_3.9/batch_00.pkl \\\n",
        "            ./drive/MyDrive/Research_driving/contrastive_clustering_dmcontrol/OODIL/mujoco/demo/walker2d_1.1/batch_00.pkl \\\n",
        "    --xml walker2d_19.9.xml  \\\n",
        "    --env-name CustomWalker2d-v0 --batch-size 128 --temperature 1. --lamda 0.01 --dist_type cos \\\n",
        "    --ratio .05 .05 .1 .1   --max_iteration 2000 --simclr_warmup 200 --seed 0 \\\n",
        "    --n_clusters 5 --dump\n",
        "\n"
      ],
      "metadata": {
        "id": "cR9z3xFZqBxx",
        "colab": {
          "base_uri": "https://localhost:8080/"
        },
        "outputId": "fd262257-f63e-426b-f470-792b2039b1dd"
      },
      "execution_count": 2,
      "outputs": [
        {
          "output_type": "stream",
          "name": "stdout",
          "text": [
            "current deveice:  cpu\n",
            "len demos 0:1001\n",
            "=>load from ./drive/MyDrive/Research_driving/contrastive_clustering_dmcontrol/OODIL/mujoco/demo/walker2d_24.8/batch_00.pkl, 25 trajs\n",
            "len demos 0:1000\n",
            "=>load from ./drive/MyDrive/Research_driving/contrastive_clustering_dmcontrol/OODIL/mujoco/demo/walker2d_9.9/batch_00.pkl, 25 trajs\n",
            "len demos 0:1001\n",
            "=>load from ./drive/MyDrive/Research_driving/contrastive_clustering_dmcontrol/OODIL/mujoco/demo/walker2d_3.9/batch_00.pkl, 50 trajs\n",
            "len demos 0:1001\n",
            "=>load from ./drive/MyDrive/Research_driving/contrastive_clustering_dmcontrol/OODIL/mujoco/demo/walker2d_1.1/batch_00.pkl, 50 trajs\n",
            "  0%|          | 0/2000 [00:00<?, ?it/s][Pretraining] iter:  0 \tsimclr_loss:  5.459395694147139 \toverall loss: 5.459395694147139\n",
            "  1%|1         | 20/2000 [00:08<13:19,  2.48it/s][Pretraining] iter:  20 \tsimclr_loss:  5.030424844839379 \toverall loss: 5.030424844839379\n",
            "  2%|2         | 40/2000 [00:18<14:07,  2.31it/s][Pretraining] iter:  40 \tsimclr_loss:  4.824914584198179 \toverall loss: 4.824914584198179\n",
            "  3%|3         | 60/2000 [00:28<18:12,  1.78it/s][Pretraining] iter:  60 \tsimclr_loss:  4.781693233600629 \toverall loss: 4.781693233600629\n",
            "  4%|4         | 80/2000 [00:37<13:10,  2.43it/s][Pretraining] iter:  80 \tsimclr_loss:  4.7695034582856275 \toverall loss: 4.7695034582856275\n",
            "  5%|5         | 100/2000 [00:47<13:03,  2.42it/s][Pretraining] iter:  100 \tsimclr_loss:  4.761813586227369 \toverall loss: 4.761813586227369\n",
            "  6%|6         | 120/2000 [00:57<16:19,  1.92it/s][Pretraining] iter:  120 \tsimclr_loss:  4.765027072689573 \toverall loss: 4.765027072689573\n",
            "  7%|7         | 140/2000 [01:05<13:04,  2.37it/s][Pretraining] iter:  140 \tsimclr_loss:  4.763592170658618 \toverall loss: 4.763592170658618\n",
            "  8%|8         | 160/2000 [01:15<13:49,  2.22it/s][Pretraining] iter:  160 \tsimclr_loss:  4.763083409492378 \toverall loss: 4.763083409492378\n",
            "  9%|9         | 180/2000 [01:25<18:10,  1.67it/s][Pretraining] iter:  180 \tsimclr_loss:  4.7596240569494075 \toverall loss: 4.7596240569494075\n",
            " 10%|#         | 200/2000 [01:33<11:55,  2.51it/s][Pretraining] iter:  200 \tsimclr_loss:  4.763196455636761 \toverall loss: 4.763196455636761\n",
            " 11%|#1        | 220/2000 [01:44<13:53,  2.14it/s]iter:  220 \tsimclr_loss:  4.765950965749562 \tcluster_loss:  0.0075686807900140415 \toverall loss: 4.773519646539576\n",
            " 12%|#2        | 240/2000 [01:54<15:49,  1.85it/s]iter:  240 \tsimclr_loss:  4.763018656524794 \tcluster_loss:  0.0033357387952570455 \toverall loss: 4.766354395320051\n",
            " 13%|#3        | 260/2000 [02:03<13:39,  2.12it/s]iter:  260 \tsimclr_loss:  4.765847519366446 \tcluster_loss:  0.001998418046205072 \toverall loss: 4.767845937412651\n",
            " 14%|#4        | 280/2000 [02:15<13:36,  2.11it/s]iter:  280 \tsimclr_loss:  4.757860895305447 \tcluster_loss:  0.0015102680463152972 \toverall loss: 4.759371163351762\n",
            " 15%|#5        | 300/2000 [02:25<16:48,  1.69it/s]iter:  300 \tsimclr_loss:  4.7639816931916386 \tcluster_loss:  0.001163503144815877 \toverall loss: 4.765145196336454\n",
            " 16%|#6        | 320/2000 [02:34<12:41,  2.21it/s]iter:  320 \tsimclr_loss:  4.757897790676757 \tcluster_loss:  0.0009561896222756486 \toverall loss: 4.758853980299032\n",
            " 17%|#7        | 340/2000 [02:44<12:49,  2.16it/s]iter:  340 \tsimclr_loss:  4.757616009313516 \tcluster_loss:  0.0006911626502413084 \toverall loss: 4.758307171963757\n",
            " 18%|#8        | 360/2000 [02:53<16:55,  1.61it/s]iter:  360 \tsimclr_loss:  4.765327960327589 \tcluster_loss:  0.0007080386868269471 \toverall loss: 4.766035999014416\n",
            " 19%|#9        | 380/2000 [03:02<11:56,  2.26it/s]iter:  380 \tsimclr_loss:  4.768499717833992 \tcluster_loss:  0.0005644202382544471 \toverall loss: 4.769064138072246\n",
            " 20%|##        | 400/2000 [03:12<12:15,  2.17it/s]iter:  400 \tsimclr_loss:  4.765338893093984 \tcluster_loss:  0.0005336541757262744 \toverall loss: 4.76587254726971\n",
            " 21%|##1       | 420/2000 [03:22<16:06,  1.63it/s]iter:  420 \tsimclr_loss:  4.766121460298795 \tcluster_loss:  0.00046727209887849276 \toverall loss: 4.766588732397673\n",
            " 22%|##2       | 440/2000 [03:31<12:12,  2.13it/s]iter:  440 \tsimclr_loss:  4.765592089773182 \tcluster_loss:  0.00039953849523856105 \toverall loss: 4.76599162826842\n",
            " 23%|##3       | 460/2000 [03:41<11:12,  2.29it/s]iter:  460 \tsimclr_loss:  4.774966568072101 \tcluster_loss:  0.0003783816519581406 \toverall loss: 4.77534494972406\n",
            " 24%|##4       | 480/2000 [03:51<17:00,  1.49it/s]iter:  480 \tsimclr_loss:  4.768444519068546 \tcluster_loss:  0.0003723838727391661 \toverall loss: 4.7688169029412855\n",
            " 25%|##5       | 500/2000 [04:00<10:26,  2.40it/s]iter:  500 \tsimclr_loss:  4.768321935538619 \tcluster_loss:  0.0003288217196321773 \toverall loss: 4.768650757258252\n",
            " 26%|##6       | 520/2000 [04:10<10:45,  2.29it/s]iter:  520 \tsimclr_loss:  4.751239137068159 \tcluster_loss:  0.0003249312472400066 \toverall loss: 4.751564068315399\n",
            " 27%|##7       | 540/2000 [04:20<15:30,  1.57it/s]iter:  540 \tsimclr_loss:  4.754337654921116 \tcluster_loss:  0.0002853992024618552 \toverall loss: 4.754623054123578\n",
            " 28%|##8       | 560/2000 [04:31<17:48,  1.35it/s]iter:  560 \tsimclr_loss:  4.769114346098343 \tcluster_loss:  0.00030090639246843837 \toverall loss: 4.769415252490812\n",
            " 29%|##9       | 580/2000 [04:41<09:36,  2.46it/s]iter:  580 \tsimclr_loss:  4.763672724086787 \tcluster_loss:  0.0002842084799622827 \toverall loss: 4.763956932566749\n",
            " 30%|###       | 600/2000 [04:51<11:10,  2.09it/s]iter:  600 \tsimclr_loss:  4.757460416699248 \tcluster_loss:  0.0002447171875054568 \toverall loss: 4.757705133886753\n",
            " 31%|###1      | 620/2000 [05:00<11:11,  2.06it/s]iter:  620 \tsimclr_loss:  4.757295214325046 \tcluster_loss:  0.00027774507790571826 \toverall loss: 4.757572959402951\n",
            " 32%|###2      | 640/2000 [05:10<09:13,  2.46it/s]iter:  640 \tsimclr_loss:  4.759845045882102 \tcluster_loss:  0.0002271046932407954 \toverall loss: 4.7600721505753425\n",
            " 33%|###3      | 660/2000 [05:22<11:12,  1.99it/s]iter:  660 \tsimclr_loss:  4.7555230635470345 \tcluster_loss:  0.0002575644580468215 \toverall loss: 4.755780628005081\n",
            " 34%|###4      | 680/2000 [05:31<10:26,  2.11it/s]iter:  680 \tsimclr_loss:  4.7553079813102075 \tcluster_loss:  0.00022284004640894188 \toverall loss: 4.755530821356617\n",
            " 35%|###5      | 700/2000 [05:41<09:55,  2.18it/s]iter:  700 \tsimclr_loss:  4.765589592045594 \tcluster_loss:  0.00020721844264117437 \toverall loss: 4.765796810488236\n",
            " 36%|###6      | 720/2000 [05:52<10:42,  1.99it/s]iter:  720 \tsimclr_loss:  4.765223134316546 \tcluster_loss:  0.0002143980944892073 \toverall loss: 4.765437532411036\n",
            " 37%|###7      | 740/2000 [06:01<11:47,  1.78it/s]iter:  740 \tsimclr_loss:  4.766069722500083 \tcluster_loss:  0.00020606205269821924 \toverall loss: 4.766275784552781\n",
            " 38%|###8      | 760/2000 [06:11<09:16,  2.23it/s]iter:  760 \tsimclr_loss:  4.7518974159038745 \tcluster_loss:  0.0002007127916227273 \toverall loss: 4.752098128695497\n",
            " 39%|###9      | 780/2000 [06:21<08:53,  2.29it/s]iter:  780 \tsimclr_loss:  4.755931371966567 \tcluster_loss:  0.0001890778094862333 \toverall loss: 4.756120449776054\n",
            " 40%|####      | 800/2000 [06:31<12:43,  1.57it/s]iter:  800 \tsimclr_loss:  4.762705902794239 \tcluster_loss:  0.00020476984347990738 \toverall loss: 4.762910672637719\n",
            " 41%|####1     | 820/2000 [06:40<08:43,  2.25it/s]iter:  820 \tsimclr_loss:  4.760449863837012 \tcluster_loss:  0.00017955674909073238 \toverall loss: 4.760629420586103\n",
            " 42%|####2     | 840/2000 [06:50<08:21,  2.31it/s]iter:  840 \tsimclr_loss:  4.7684913898997126 \tcluster_loss:  0.00018575727173760788 \toverall loss: 4.76867714717145\n",
            " 43%|####3     | 860/2000 [07:00<11:55,  1.59it/s]iter:  860 \tsimclr_loss:  4.768818586112729 \tcluster_loss:  0.00015978782956689897 \toverall loss: 4.7689783739422955\n",
            " 44%|####4     | 880/2000 [07:09<07:55,  2.35it/s]iter:  880 \tsimclr_loss:  4.762357010300812 \tcluster_loss:  0.00017170864863084382 \toverall loss: 4.762528718949444\n",
            " 45%|####5     | 900/2000 [07:19<07:46,  2.36it/s]iter:  900 \tsimclr_loss:  4.752224801025433 \tcluster_loss:  0.0001640694559588014 \toverall loss: 4.752388870481392\n",
            " 46%|####6     | 920/2000 [07:29<10:39,  1.69it/s]iter:  920 \tsimclr_loss:  4.757467786878624 \tcluster_loss:  0.00018680713941057444 \toverall loss: 4.757654594018034\n",
            " 47%|####6     | 940/2000 [07:38<07:15,  2.43it/s]iter:  940 \tsimclr_loss:  4.774222079790927 \tcluster_loss:  0.0001389023060085863 \toverall loss: 4.774360982096935\n",
            " 48%|####8     | 960/2000 [07:48<07:49,  2.21it/s]iter:  960 \tsimclr_loss:  4.765255351121151 \tcluster_loss:  0.00014389279638496986 \toverall loss: 4.765399243917535\n",
            " 49%|####9     | 980/2000 [07:58<11:11,  1.52it/s]iter:  980 \tsimclr_loss:  4.755353443781491 \tcluster_loss:  0.00015426124820097742 \toverall loss: 4.755507705029692\n",
            " 50%|#####     | 1000/2000 [08:06<06:56,  2.40it/s]iter:  1000 \tsimclr_loss:  4.755981459925696 \tcluster_loss:  0.00015032932566187986 \toverall loss: 4.7561317892513575\n",
            " 51%|#####1    | 1020/2000 [08:16<07:16,  2.25it/s]iter:  1020 \tsimclr_loss:  4.757564911606069 \tcluster_loss:  0.00017639786305113434 \toverall loss: 4.757741309469121\n",
            " 52%|#####2    | 1040/2000 [08:28<10:14,  1.56it/s]iter:  1040 \tsimclr_loss:  4.762342410969529 \tcluster_loss:  0.00015035946275692447 \toverall loss: 4.762492770432286\n",
            " 53%|#####3    | 1060/2000 [08:37<06:37,  2.36it/s]iter:  1060 \tsimclr_loss:  4.755268203200732 \tcluster_loss:  0.00014132736537961985 \toverall loss: 4.755409530566111\n",
            " 54%|#####4    | 1080/2000 [08:47<06:53,  2.22it/s]iter:  1080 \tsimclr_loss:  4.765160983130079 \tcluster_loss:  0.0001491819738908189 \toverall loss: 4.76531016510397\n",
            " 55%|#####5    | 1100/2000 [08:56<09:19,  1.61it/s]iter:  1100 \tsimclr_loss:  4.760779684811816 \tcluster_loss:  0.00014261300776957457 \toverall loss: 4.760922297819585\n",
            " 56%|#####6    | 1120/2000 [09:05<06:26,  2.28it/s]iter:  1120 \tsimclr_loss:  4.763200192746527 \tcluster_loss:  0.00013760602627423634 \toverall loss: 4.763337798772801\n",
            " 57%|#####6    | 1140/2000 [09:15<06:29,  2.21it/s]iter:  1140 \tsimclr_loss:  4.7580811340746285 \tcluster_loss:  0.00015542406757886338 \toverall loss: 4.758236558142207\n",
            " 58%|#####8    | 1160/2000 [09:25<08:12,  1.71it/s]iter:  1160 \tsimclr_loss:  4.757460540021472 \tcluster_loss:  0.00014499354609586148 \toverall loss: 4.757605533567568\n",
            " 59%|#####8    | 1180/2000 [09:33<05:59,  2.28it/s]iter:  1180 \tsimclr_loss:  4.763227441170415 \tcluster_loss:  0.00010694194767592733 \toverall loss: 4.763334383118091\n",
            " 60%|######    | 1200/2000 [09:44<06:07,  2.18it/s]iter:  1200 \tsimclr_loss:  4.759765706171761 \tcluster_loss:  0.00011220290777735754 \toverall loss: 4.759877909079538\n",
            " 61%|######1   | 1220/2000 [09:54<08:08,  1.60it/s]iter:  1220 \tsimclr_loss:  4.7530126559606805 \tcluster_loss:  0.00011662922223814133 \toverall loss: 4.7531292851829186\n",
            " 62%|######2   | 1240/2000 [10:03<05:44,  2.20it/s]iter:  1240 \tsimclr_loss:  4.762665477276283 \tcluster_loss:  0.00012980002536608048 \toverall loss: 4.762795277301649\n",
            " 63%|######3   | 1260/2000 [10:13<05:48,  2.12it/s]iter:  1260 \tsimclr_loss:  4.768418461159888 \tcluster_loss:  0.00011048970377540703 \toverall loss: 4.768528950863663\n",
            " 64%|######4   | 1280/2000 [10:23<07:23,  1.62it/s]iter:  1280 \tsimclr_loss:  4.765785055779766 \tcluster_loss:  0.00013014555648939907 \toverall loss: 4.765915201336255\n",
            " 65%|######5   | 1300/2000 [10:32<04:54,  2.38it/s]iter:  1300 \tsimclr_loss:  4.763830010169897 \tcluster_loss:  0.0001178098543958404 \toverall loss: 4.763947820024293\n",
            " 66%|######6   | 1320/2000 [10:42<04:52,  2.32it/s]iter:  1320 \tsimclr_loss:  4.767048856635168 \tcluster_loss:  0.00013967017703132558 \toverall loss: 4.767188526812199\n",
            " 67%|######7   | 1340/2000 [10:51<06:24,  1.72it/s]iter:  1340 \tsimclr_loss:  4.75362891865784 \tcluster_loss:  0.00011911447393351634 \toverall loss: 4.753748033131774\n",
            " 68%|######8   | 1360/2000 [11:00<04:41,  2.28it/s]iter:  1360 \tsimclr_loss:  4.757393361819931 \tcluster_loss:  0.00010890360139051175 \toverall loss: 4.757502265421321\n",
            " 69%|######9   | 1380/2000 [11:10<04:24,  2.35it/s]iter:  1380 \tsimclr_loss:  4.757574687201771 \tcluster_loss:  0.00010897356698840206 \toverall loss: 4.75768366076876\n",
            " 70%|#######   | 1400/2000 [11:20<06:06,  1.64it/s]iter:  1400 \tsimclr_loss:  4.763019222078594 \tcluster_loss:  8.750015491849256e-05 \toverall loss: 4.763106722233512\n",
            " 71%|#######1  | 1420/2000 [11:29<04:17,  2.26it/s]iter:  1420 \tsimclr_loss:  4.757933905910962 \tcluster_loss:  0.00012515893303220954 \toverall loss: 4.7580590648439935\n",
            " 72%|#######2  | 1440/2000 [11:40<04:06,  2.28it/s]iter:  1440 \tsimclr_loss:  4.762464906040194 \tcluster_loss:  0.0001238550491608262 \toverall loss: 4.762588761089354\n",
            " 73%|#######3  | 1460/2000 [11:50<05:20,  1.68it/s]iter:  1460 \tsimclr_loss:  4.762624937076031 \tcluster_loss:  0.00011202404279695379 \toverall loss: 4.7627369611188275\n",
            " 74%|#######4  | 1480/2000 [11:59<03:35,  2.41it/s]iter:  1480 \tsimclr_loss:  4.774798972685205 \tcluster_loss:  0.00010318143375815701 \toverall loss: 4.774902154118963\n",
            " 75%|#######5  | 1500/2000 [12:09<03:51,  2.16it/s]iter:  1500 \tsimclr_loss:  4.768293283532076 \tcluster_loss:  9.922548421509831e-05 \toverall loss: 4.768392509016291\n",
            " 76%|#######6  | 1520/2000 [12:18<04:29,  1.78it/s]iter:  1520 \tsimclr_loss:  4.763522771480679 \tcluster_loss:  0.0001112140479526625 \toverall loss: 4.763633985528632\n",
            " 77%|#######7  | 1540/2000 [12:27<03:17,  2.33it/s]iter:  1540 \tsimclr_loss:  4.762431474368785 \tcluster_loss:  0.00010040128516783275 \toverall loss: 4.762531875653952\n",
            " 78%|#######8  | 1560/2000 [12:37<03:18,  2.22it/s]iter:  1560 \tsimclr_loss:  4.758444461930924 \tcluster_loss:  8.702380540771948e-05 \toverall loss: 4.758531485736332\n",
            " 79%|#######9  | 1580/2000 [12:46<03:50,  1.82it/s]iter:  1580 \tsimclr_loss:  4.755879653062317 \tcluster_loss:  8.653534833263685e-05 \toverall loss: 4.75596618841065\n",
            " 80%|########  | 1600/2000 [12:55<02:40,  2.50it/s]iter:  1600 \tsimclr_loss:  4.762596170480661 \tcluster_loss:  0.00011241588724947899 \toverall loss: 4.762708586367911\n",
            " 81%|########1 | 1620/2000 [13:05<02:42,  2.34it/s]iter:  1620 \tsimclr_loss:  4.759731735942266 \tcluster_loss:  0.00011401325119970003 \toverall loss: 4.759845749193466\n",
            " 82%|########2 | 1640/2000 [13:14<03:09,  1.90it/s]iter:  1640 \tsimclr_loss:  4.766464708436383 \tcluster_loss:  0.00012180761246407878 \toverall loss: 4.766586516048847\n",
            " 83%|########2 | 1660/2000 [13:24<02:24,  2.35it/s]iter:  1660 \tsimclr_loss:  4.759752741006344 \tcluster_loss:  0.00011160935763907689 \toverall loss: 4.7598643503639835\n",
            " 84%|########4 | 1680/2000 [13:33<02:19,  2.30it/s]iter:  1680 \tsimclr_loss:  4.766019497602163 \tcluster_loss:  0.00010421111211944605 \toverall loss: 4.766123708714282\n",
            " 85%|########5 | 1700/2000 [13:43<02:41,  1.86it/s]iter:  1700 \tsimclr_loss:  4.771323666633451 \tcluster_loss:  8.454649461491208e-05 \toverall loss: 4.771408213128066\n",
            " 86%|########6 | 1720/2000 [13:52<01:58,  2.36it/s]iter:  1720 \tsimclr_loss:  4.7511660615295 \tcluster_loss:  7.676986558756671e-05 \toverall loss: 4.751242831395087\n",
            " 87%|########7 | 1740/2000 [14:02<02:08,  2.02it/s]iter:  1740 \tsimclr_loss:  4.763692590165412 \tcluster_loss:  0.00010006524365165103 \toverall loss: 4.763792655409064\n",
            " 88%|########8 | 1760/2000 [14:11<02:06,  1.89it/s]iter:  1760 \tsimclr_loss:  4.765505491129186 \tcluster_loss:  0.00010115006518678698 \toverall loss: 4.765606641194373\n",
            " 89%|########9 | 1780/2000 [14:21<01:29,  2.46it/s]iter:  1780 \tsimclr_loss:  4.760034019876253 \tcluster_loss:  7.654596628959319e-05 \toverall loss: 4.760110565842543\n",
            " 90%|######### | 1800/2000 [14:31<01:32,  2.16it/s]iter:  1800 \tsimclr_loss:  4.77118473204804 \tcluster_loss:  0.00010435247248636461 \toverall loss: 4.771289084520526\n",
            " 91%|#########1| 1820/2000 [14:41<02:26,  1.23it/s]iter:  1820 \tsimclr_loss:  4.762673470033023 \tcluster_loss:  9.49446848410169e-05 \toverall loss: 4.762768414717864\n",
            " 92%|#########2| 1840/2000 [14:53<01:15,  2.11it/s]iter:  1840 \tsimclr_loss:  4.762127532768885 \tcluster_loss:  8.78888094979397e-05 \toverall loss: 4.762215421578382\n",
            " 93%|#########3| 1860/2000 [15:03<01:10,  1.98it/s]iter:  1860 \tsimclr_loss:  4.755348872970042 \tcluster_loss:  7.164965076960703e-05 \toverall loss: 4.7554205226208115\n",
            " 94%|#########3| 1880/2000 [15:12<00:53,  2.25it/s]iter:  1880 \tsimclr_loss:  4.760405827150607 \tcluster_loss:  7.421747451012502e-05 \toverall loss: 4.760480044625117\n",
            " 95%|#########5| 1900/2000 [15:22<00:44,  2.24it/s]iter:  1900 \tsimclr_loss:  4.760111812855175 \tcluster_loss:  9.94026548888385e-05 \toverall loss: 4.760211215510064\n",
            " 96%|#########6| 1920/2000 [15:32<00:41,  1.93it/s]iter:  1920 \tsimclr_loss:  4.766061038515309 \tcluster_loss:  8.708490616565477e-05 \toverall loss: 4.766148123421474\n",
            " 97%|#########7| 1940/2000 [15:42<00:34,  1.75it/s]iter:  1940 \tsimclr_loss:  4.755253256554557 \tcluster_loss:  7.767586792197518e-05 \toverall loss: 4.755330932422479\n",
            " 98%|#########8| 1960/2000 [15:51<00:15,  2.52it/s]iter:  1960 \tsimclr_loss:  4.762604769469378 \tcluster_loss:  8.177930952300933e-05 \toverall loss: 4.762686548778901\n",
            " 99%|#########9| 1980/2000 [16:01<00:09,  2.12it/s]iter:  1980 \tsimclr_loss:  4.762648364353405 \tcluster_loss:  8.917640146669661e-05 \toverall loss: 4.7627375407548715\n",
            "100%|##########| 2000/2000 [16:10<00:00,  2.06it/s]\n",
            "=>save rnn model at:  log/resplit-dataset/CustomWalker2d-v0/walker2d_19.9/checkpoints/seed_0_rnn_model.pth\n",
            "cluster:0, count 19: [ 0  1  3  4  5  6  7  8  9 10 11 12 13 15 17 18 19 20 22]\n",
            "cluster:1, count 50: [100 101 102 103 104 105 106 107 108 109 110 111 112 113 114 115 116 117\n",
            " 118 119 120 121 122 123 124 125 126 127 128 129 130 131 132 133 134 135\n",
            " 136 137 138 139 140 141 142 143 144 145 146 147 148 149]\n",
            "cluster:2, count 50: [50 51 52 53 54 55 56 57 58 59 60 61 62 63 64 65 66 67 68 69 70 71 72 73\n",
            " 74 75 76 77 78 79 80 81 82 83 84 85 86 87 88 89 90 91 92 93 94 95 96 97\n",
            " 98 99]\n",
            "cluster:3, count 25: [25 26 27 28 29 30 31 32 33 34 35 36 37 38 39 40 41 42 43 44 45 46 47 48\n",
            " 49]\n",
            "cluster:4, count 6: [ 2 14 16 21 23 24]\n",
            "=>save at:  log/CustomWalker2d-v0/re_split_simclr_0_DCN_batch_00_temperature1.0-beta-0.01-batch128-stride20-ratio[0.05, 0.05, 0.1, 0.1]-N5.pkl\n",
            "=>save cluster 0: 19 traj\n",
            "=>save at:  log/CustomWalker2d-v0/re_split_simclr_1_DCN_batch_00_temperature1.0-beta-0.01-batch128-stride20-ratio[0.05, 0.05, 0.1, 0.1]-N5.pkl\n",
            "=>save cluster 1: 50 traj\n",
            "=>save at:  log/CustomWalker2d-v0/re_split_simclr_2_DCN_batch_00_temperature1.0-beta-0.01-batch128-stride20-ratio[0.05, 0.05, 0.1, 0.1]-N5.pkl\n",
            "=>save cluster 2: 50 traj\n",
            "=>save at:  log/CustomWalker2d-v0/re_split_simclr_3_DCN_batch_00_temperature1.0-beta-0.01-batch128-stride20-ratio[0.05, 0.05, 0.1, 0.1]-N5.pkl\n",
            "=>save cluster 3: 25 traj\n",
            "=>save at:  log/CustomWalker2d-v0/re_split_simclr_4_DCN_batch_00_temperature1.0-beta-0.01-batch128-stride20-ratio[0.05, 0.05, 0.1, 0.1]-N5.pkl\n",
            "=>save cluster 4: 6 traj\n",
            "silhoueete score: 0.8662951377974685; calinki score: 3090.2491192553334\n"
          ]
        }
      ]
    },
    {
      "cell_type": "markdown",
      "source": [
        "# New Section"
      ],
      "metadata": {
        "id": "MB6W9EsOla7G"
      }
    }
  ]
}